{
 "cells": [
  {
   "cell_type": "code",
   "execution_count": null,
   "metadata": {},
   "outputs": [],
   "source": [
    "dir_list = [d for d in os.listdir(select_dir) if os.path.isdir(os.path.join(select_dir, d))]\n",
    "\n",
    "dir_drop = widgets.Dropdown(options=dir_list, description='Dir:')\n",
    "\n",
    "# 显示下拉列表\n",
    "display(dir_drop)"
   ]
  }
 ],
 "metadata": {
  "language_info": {
   "name": "python"
  }
 },
 "nbformat": 4,
 "nbformat_minor": 2
}
