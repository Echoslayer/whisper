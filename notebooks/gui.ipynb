{
 "cells": [
  {
   "cell_type": "markdown",
   "metadata": {},
   "source": [
    "# GUI for Audio Transcription (Jupyter Interface)\n",
    "\n",
    "This notebook provides a simple interface to launch the desktop GUI for audio transcription. The actual GUI is implemented in `scripts/gui.py` and can be run directly using `scripts/run_gui.py` outside of Jupyter."
   ]
  },
  {
   "cell_type": "markdown",
   "metadata": {},
   "source": [
    "## Launch GUI\n",
    "\n",
    "Run this cell to launch the desktop GUI. Note that the GUI will open in a separate window."
   ]
  },
  {
   "cell_type": "code",
   "execution_count": null,
   "metadata": {},
   "outputs": [],
   "source": [
    "import os\n",
    "import sys\n",
    "import subprocess\n",
    "\n",
    "# Run the GUI in a separate process\n",
    "gui_script = os.path.abspath(os.path.join(os.getcwd(), '../scripts/run_gui.py'))\n",
    "process = subprocess.Popen([sys.executable, gui_script])\n",
    "print(f\"GUI launched with PID: {process.pid}\")\n",
    "print(\"The GUI is running in a separate window. Close the window to terminate the GUI.\")"
   ]
  },
  {
   "cell_type": "markdown",
   "metadata": {},
   "source": [
    "## Terminate GUI\n",
    "\n",
    "Run this cell to terminate the GUI process if needed."
   ]
  },
  {
   "cell_type": "code",
   "execution_count": null,
   "metadata": {},
   "outputs": [],
   "source": [
    "process.terminate()\n",
    "print(\"GUI process terminated.\")"
   ]
  }
 ],
 "metadata": {
  "kernelspec": {
   "display_name": ".venv",
   "language": "python",
   "name": "python3"
  },
  "language_info": {
   "codemirror_mode": {
    "name": "ipython",
    "version": 3
   },
   "file_extension": ".py",
   "mimetype": "text/x-python",
   "name": "python",
   "nbconvert_exporter": "python",
   "pygments_lexer": "ipython3",
   "version": "3.12.9"
  }
 },
 "nbformat": 4,
 "nbformat_minor": 2
}
