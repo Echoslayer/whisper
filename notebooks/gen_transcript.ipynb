{
 "cells": [
  {
   "cell_type": "markdown",
   "metadata": {},
   "source": [
    "# Generate Transcript from Audio\n",
    "\n",
    "This notebook allows you to process an audio file, split it into clips, and transcribe the content using Whisper.cpp. You can configure the settings using interactive widgets."
   ]
  },
  {
   "cell_type": "markdown",
   "metadata": {},
   "source": [
    "## Step 1: Setup and Configuration\n",
    "\n",
    "Configure the input file, output directory, and other settings using interactive widgets."
   ]
  },
  {
   "cell_type": "code",
   "execution_count": null,
   "metadata": {},
   "outputs": [],
   "source": [
    "import os\n",
    "import ipywidgets as widgets\n",
    "from IPython.display import display\n",
    "\n",
    "# Default configuration values\n",
    "DEFAULT_INPUT_FILE = \"../data/demo/demo.wav\"\n",
    "# DEFAULT_INPUT_FILE = \"/Users/macmini/Library/Mobile Documents/com~apple~CloudDocs/Documents/2025SEM/2025-05-17 18-51-59.mp4\"\n",
    "# DEFAULT_INPUT_FILE = \"/Volumes/MacHD/梵公子/19、梵公子《搭讪后续聊天》/第四节：中期聊天“渐入佳境”【WWW.PUACP.COM】.mp4\"\n",
    "DEFAULT_OUTPUT_DIR = \"../data/output_clips\"\n",
    "DEFAULT_CLIP_DURATION_SEC = 10  # in seconds\n",
    "DEFAULT_WHISPER_EXEC = \"../whisper.cpp/build/bin/whisper-cli\"\n",
    "DEFAULT_WHISPER_MODEL = \"../whisper.cpp/models/ggml-medium.bin\"\n",
    "DEFAULT_LANGUAGE = \"zh\"\n",
    "DEFAULT_TRANSCRIPT_FILENAME = \"transcription.txt\"\n",
    "DEFAULT_WORKERS = 3\n",
    "DEFAULT_USE_THREADS = True\n",
    "\n",
    "# Widgets for configuration\n",
    "input_file_widget = widgets.Text(\n",
    "    value=DEFAULT_INPUT_FILE,\n",
    "    placeholder='Enter input audio file path',\n",
    "    description='Input File:',\n",
    "    layout={'width': '500px'}\n",
    ")\n",
    "\n",
    "output_dir_widget = widgets.Text(\n",
    "    value=DEFAULT_OUTPUT_DIR,\n",
    "    placeholder='Enter output directory',\n",
    "    description='Output Dir:',\n",
    "    layout={'width': '500px'}\n",
    ")\n",
    "\n",
    "clip_duration_widget = widgets.IntSlider(\n",
    "    value=DEFAULT_CLIP_DURATION_SEC,\n",
    "    min=10,\n",
    "    max=1800,\n",
    "    step=5,\n",
    "    description='Clip Duration (sec):',\n",
    "    layout={'width': '500px'}\n",
    ")\n",
    "\n",
    "whisper_exec_widget = widgets.Text(\n",
    "    value=DEFAULT_WHISPER_EXEC,\n",
    "    placeholder='Enter Whisper.cpp executable path',\n",
    "    description='Whisper Exec:',\n",
    "    layout={'width': '500px'}\n",
    ")\n",
    "\n",
    "whisper_model_widget = widgets.Text(\n",
    "    value=DEFAULT_WHISPER_MODEL,\n",
    "    placeholder='Enter Whisper model path',\n",
    "    description='Whisper Model:',\n",
    "    layout={'width': '500px'}\n",
    ")\n",
    "\n",
    "language_widget = widgets.Dropdown(\n",
    "    options=[('Chinese (zh)', 'zh'), ('English (en)', 'en')],\n",
    "    value=DEFAULT_LANGUAGE,\n",
    "    description='Language:',\n",
    "    layout={'width': '500px'}\n",
    ")\n",
    "\n",
    "transcript_filename_widget = widgets.Text(\n",
    "    value='',\n",
    "    placeholder=f'Enter transcript filename (default: {DEFAULT_TRANSCRIPT_FILENAME})',\n",
    "    description='Transcript File:',\n",
    "    layout={'width': '500px'}\n",
    ")\n",
    "\n",
    "workers_widget = widgets.IntSlider(\n",
    "    value=DEFAULT_WORKERS,\n",
    "    min=1,\n",
    "    max=8,\n",
    "    step=1,\n",
    "    description='Workers:',\n",
    "    layout={'width': '500px'}\n",
    ")\n",
    "\n",
    "use_threads_widget = widgets.Dropdown(\n",
    "    options=[('Multithreading', True), ('Multiprocessing', False)],\n",
    "    value=DEFAULT_USE_THREADS,\n",
    "    description='Parallel Method:',\n",
    "    layout={'width': '500px'}\n",
    ")\n",
    "\n",
    "# Display widgets\n",
    "display(input_file_widget)\n",
    "display(output_dir_widget)\n",
    "display(clip_duration_widget)\n",
    "display(whisper_exec_widget)\n",
    "display(whisper_model_widget)\n",
    "display(language_widget)\n",
    "display(transcript_filename_widget)\n",
    "display(workers_widget)\n",
    "display(use_threads_widget)"
   ]
  },
  {
   "cell_type": "markdown",
   "metadata": {},
   "source": [
    "## Step 2: Import Audio Processing Functions\n",
    "\n",
    "Import the necessary functions for processing audio files from `voice2transcripts.py`."
   ]
  },
  {
   "cell_type": "code",
   "execution_count": null,
   "metadata": {},
   "outputs": [],
   "source": [
    "import os\n",
    "import sys\n",
    "\n",
    "# Add the scripts directory to the path so we can import the functions\n",
    "sys.path.append(os.path.abspath(os.path.join(os.getcwd(), '../scripts')))\n",
    "from voice2transcripts import clear_output_folder, convert_to_wav, split_audio, transcribe_audio\n",
    "from time_stamp_cleaner import clean_transcription, save_cleaned_transcription"
   ]
  },
  {
   "cell_type": "markdown",
   "metadata": {},
   "source": [
    "## Step 3: Process Audio and Generate Transcript\n",
    "\n",
    "Run the processing pipeline to convert, split, transcribe, and clean the audio file."
   ]
  },
  {
   "cell_type": "code",
   "execution_count": null,
   "metadata": {},
   "outputs": [],
   "source": [
    "try:\n",
    "    # Get values from widgets\n",
    "    input_file = input_file_widget.value\n",
    "    output_dir = output_dir_widget.value\n",
    "    clip_duration_sec = clip_duration_widget.value  # Duration in seconds\n",
    "    whisper_exec = whisper_exec_widget.value\n",
    "    whisper_model = whisper_model_widget.value\n",
    "    language = language_widget.value\n",
    "    transcript_filename = transcript_filename_widget.value if transcript_filename_widget.value.strip() else DEFAULT_TRANSCRIPT_FILENAME\n",
    "    workers = workers_widget.value\n",
    "    use_threads = use_threads_widget.value\n",
    "\n",
    "    # Check if input file exists\n",
    "    if not os.path.exists(input_file):\n",
    "        raise FileNotFoundError(f\"❌ 找不到輸入音訊檔案：{input_file}\")\n",
    "\n",
    "    # Clear old files\n",
    "    clear_output_folder(output_dir)\n",
    "\n",
    "    # Execute the processing pipeline\n",
    "    print(\"🚀 開始音訊處理與轉錄流程...\")\n",
    "    wav_file = convert_to_wav(input_file, output_dir)\n",
    "    clip_files = split_audio(wav_file, clip_duration_sec, output_dir)\n",
    "    transcribe_audio(clip_files, output_dir, whisper_exec, whisper_model, language, transcript_filename=transcript_filename, workers=workers, use_threads=use_threads)\n",
    "    print(f\"🎉 轉錄處理完成！轉錄結果已儲存至 {os.path.join(output_dir, '../transcripts/' + transcript_filename)}\")\n",
    "except Exception as e:\n",
    "    print(f\"❌ 處理過程中發生錯誤：{e}\")"
   ]
  },
  {
   "cell_type": "markdown",
   "metadata": {},
   "source": [
    "## Step 4: Clean Transcription\n",
    "\n",
    "Clean the transcription by removing per-sentence timestamps and formatting the content."
   ]
  },
  {
   "cell_type": "markdown",
   "metadata": {},
   "source": [
    "### Step 4.1: Configure Cleaned Transcript Filename"
   ]
  },
  {
   "cell_type": "code",
   "execution_count": null,
   "metadata": {},
   "outputs": [],
   "source": [
    "import ipywidgets as widgets\n",
    "from IPython.display import display\n",
    "from pathlib import Path\n",
    "\n",
    "# Get the stem of the input file for default naming\n",
    "input_file_stem = Path(input_file_widget.value).stem\n",
    "\n",
    "# Widget for cleaned transcript filename\n",
    "cleaned_transcript_filename_widget = widgets.Text(\n",
    "    value=f\"{input_file_stem}_clean.txt\",\n",
    "    placeholder=f'Enter cleaned transcript filename (default: {input_file_stem}_clean.txt)',\n",
    "    description='Cleaned Transcript:',\n",
    "    layout={'width': '500px'}\n",
    ")\n",
    "display(cleaned_transcript_filename_widget)"
   ]
  },
  {
   "cell_type": "markdown",
   "metadata": {},
   "source": [
    "### Step 4.2: Clean and Save Transcription"
   ]
  },
  {
   "cell_type": "code",
   "execution_count": null,
   "metadata": {},
   "outputs": [],
   "source": [
    "try:\n",
    "    # Get the transcript file path based on the output directory structure\n",
    "    transcript_dir = os.path.join(os.path.dirname(output_dir), 'transcripts')\n",
    "    transcript_path = os.path.join(transcript_dir, transcript_filename)\n",
    "    \n",
    "    # Get the cleaned transcript filename from the widget or use default based on input file stem\n",
    "    cleaned_transcript_filename = cleaned_transcript_filename_widget.value if cleaned_transcript_filename_widget.value.strip() else f\"{input_file_stem}_clean.txt\"\n",
    "    cleaned_transcript_path = os.path.join(transcript_dir, cleaned_transcript_filename)\n",
    "    \n",
    "    # Read, clean, and save the transcription\n",
    "    print(\"🧹 開始清理轉錄結果...\")\n",
    "    print(f\"嘗試讀取轉錄檔案：{transcript_path}\")\n",
    "    if os.path.exists(transcript_path):\n",
    "        print(f\"✅ 找到轉錄檔案，開始清理...\")\n",
    "        with open(transcript_path, 'r', encoding='utf-8') as f:\n",
    "            text = f.read()\n",
    "        global cleaned_segments\n",
    "        cleaned_segments = clean_transcription(text)\n",
    "        if cleaned_segments:\n",
    "            save_cleaned_transcription(cleaned_segments, cleaned_transcript_path)\n",
    "            print(f\"🎉 清理完成！清理後的轉錄結果已儲存至 {cleaned_transcript_path}\")\n",
    "        else:\n",
    "            print(\"⚠️ 沒有找到有效的轉錄內容，無法儲存清理後的檔案。\")\n",
    "    else:\n",
    "        print(f\"❌ 轉錄檔案不存在：{transcript_path}\")\n",
    "except FileNotFoundError as e:\n",
    "    print(f\"❌ 找不到檔案：{e}\")\n",
    "except IOError as e:\n",
    "    print(f\"❌ 讀取檔案時發生錯誤：{e}\")\n",
    "except Exception as e:\n",
    "    print(f\"❌ 清理轉錄過程中發生未知錯誤：{e}\")"
   ]
  },
  {
   "cell_type": "markdown",
   "metadata": {},
   "source": [
    "## Step 5: Convert Transcription to SRT Format\n",
    "\n",
    "Convert the cleaned transcription to SRT subtitle format."
   ]
  },
  {
   "cell_type": "markdown",
   "metadata": {},
   "source": [
    "### Step 5.1: Configure SRT Filename"
   ]
  },
  {
   "cell_type": "code",
   "execution_count": null,
   "metadata": {},
   "outputs": [],
   "source": [
    "import ipywidgets as widgets\n",
    "from IPython.display import display\n",
    "from pathlib import Path\n",
    "\n",
    "# Get the stem of the input file for default naming\n",
    "input_file_stem = Path(input_file_widget.value).stem\n",
    "\n",
    "# Widget for SRT filename\n",
    "srt_filename_widget = widgets.Text(\n",
    "    value=f\"{input_file_stem}.srt\",\n",
    "    placeholder=f'Enter SRT filename (default: {input_file_stem}.srt)',\n",
    "    description='SRT File:',\n",
    "    layout={'width': '500px'}\n",
    ")\n",
    "display(srt_filename_widget)"
   ]
  },
  {
   "cell_type": "markdown",
   "metadata": {},
   "source": [
    "### Step 5.2: Generate SRT File"
   ]
  },
  {
   "cell_type": "code",
   "execution_count": null,
   "metadata": {},
   "outputs": [],
   "source": [
    "try:\n",
    "    from time_stamp_cleaner import convert_to_srt\n",
    "    \n",
    "    # Get the SRT filename from the widget or use default based on input file stem\n",
    "    srt_filename = srt_filename_widget.value if srt_filename_widget.value.strip() else f\"{input_file_stem}.srt\"\n",
    "    srt_path = os.path.join(transcript_dir, srt_filename)\n",
    "    \n",
    "    # Convert cleaned segments to SRT format\n",
    "    print(\"📝 開始轉換為 SRT 格式...\")\n",
    "    if cleaned_segments:\n",
    "        convert_to_srt(cleaned_segments, srt_path)\n",
    "        print(f\"🎉 轉換完成！SRT 字幕檔已儲存至 {srt_path}\")\n",
    "    else:\n",
    "        print(\"⚠️ 沒有清理後的轉錄內容可供轉換為 SRT 格式。\")\n",
    "except Exception as e:\n",
    "    print(f\"❌ 轉換為 SRT 格式時發生錯誤：{e}\")"
   ]
  }
 ],
 "metadata": {
  "kernelspec": {
   "display_name": ".venv",
   "language": "python",
   "name": "python3"
  },
  "language_info": {
   "codemirror_mode": {
    "name": "ipython",
    "version": 3
   },
   "file_extension": ".py",
   "mimetype": "text/x-python",
   "name": "python",
   "nbconvert_exporter": "python",
   "pygments_lexer": "ipython3",
   "version": "3.12.9"
  }
 },
 "nbformat": 4,
 "nbformat_minor": 2
}
