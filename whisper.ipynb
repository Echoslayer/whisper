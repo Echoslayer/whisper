{
 "cells": [
  {
   "cell_type": "markdown",
   "metadata": {},
   "source": [
    "## Check Environment"
   ]
  },
  {
   "cell_type": "code",
   "execution_count": 42,
   "metadata": {},
   "outputs": [
    {
     "name": "stdout",
     "output_type": "stream",
     "text": [
      "這台機器有 4 個 CPU 核心。\n"
     ]
    }
   ],
   "source": [
    "import os\n",
    "\n",
    "# 獲取 CPU 的核心數量\n",
    "cpu_cores = os.cpu_count()\n",
    "\n",
    "if cpu_cores is not None:\n",
    "    print(f\"這台機器有 {cpu_cores} 個 CPU 核心。\")\n",
    "else:\n",
    "    print(\"無法獲取 CPU 核心數量。\")"
   ]
  },
  {
   "cell_type": "code",
   "execution_count": 41,
   "metadata": {},
   "outputs": [
    {
     "name": "stdout",
     "output_type": "stream",
     "text": [
      "FFmpeg is installed. Here's the version information:\n",
      "ffmpeg version N-114554-g7bf85d2d3a-20240401 Copyright (c) 2000-2024 the FFmpeg developers\n",
      "built with gcc 13.2.0 (crosstool-NG 1.26.0.65_ecc5e41)\n",
      "configuration: --prefix=/ffbuild/prefix --pkg-config-flags=--static --pkg-config=pkg-config --cross-prefix=x86_64-w64-mingw32- --arch=x86_64 --target-os=mingw32 --enable-gpl --enable-version3 --disable-debug --disable-w32threads --enable-pthreads --enable-iconv --enable-libxml2 --enable-zlib --enable-libfreetype --enable-libfribidi --enable-gmp --enable-fontconfig --enable-libharfbuzz --enable-libvorbis --enable-opencl --disable-libpulse --enable-libvmaf --disable-libxcb --disable-xlib --enable-amf --enable-libaom --enable-libaribb24 --enable-avisynth --enable-chromaprint --enable-libdav1d --enable-libdavs2 --enable-libdvdread --enable-libdvdnav --disable-libfdk-aac --enable-ffnvcodec --enable-cuda-llvm --enable-frei0r --enable-libgme --enable-libkvazaar --enable-libaribcaption --enable-libass --enable-libbluray --enable-libjxl --enable-libmp3lame --enable-libopus --enable-librist --enable-libssh --enable-libtheora --enable-libvpx --enable-libwebp --enable-lv2 --enable-libvpl --enable-openal --enable-libopencore-amrnb --enable-libopencore-amrwb --enable-libopenh264 --enable-libopenjpeg --enable-libopenmpt --enable-librav1e --enable-librubberband --enable-schannel --enable-sdl2 --enable-libsoxr --enable-libsrt --enable-libsvtav1 --enable-libtwolame --enable-libuavs3d --disable-libdrm --enable-vaapi --enable-libvidstab --enable-vulkan --enable-libshaderc --enable-libplacebo --enable-libx264 --enable-libx265 --enable-libxavs2 --enable-libxvid --enable-libzimg --enable-libzvbi --extra-cflags=-DLIBTWOLAME_STATIC --extra-cxxflags= --extra-libs=-lgomp --extra-ldflags=-pthread --extra-ldexeflags= --cc=x86_64-w64-mingw32-gcc --cxx=x86_64-w64-mingw32-g++ --ar=x86_64-w64-mingw32-gcc-ar --ranlib=x86_64-w64-mingw32-gcc-ranlib --nm=x86_64-w64-mingw32-gcc-nm --extra-version=20240401\n",
      "libavutil      59. 10.100 / 59. 10.100\n",
      "libavcodec     61.  5.100 / 61.  5.100\n",
      "libavformat    61.  2.100 / 61.  2.100\n",
      "libavdevice    61.  2.100 / 61.  2.100\n",
      "libavfilter    10.  2.100 / 10.  2.100\n",
      "libswscale      8.  2.100 /  8.  2.100\n",
      "libswresample   5.  2.100 /  5.  2.100\n",
      "libpostproc    58.  2.100 / 58.  2.100\n",
      "\n"
     ]
    }
   ],
   "source": [
    "import subprocess\n",
    "\n",
    "def check_ffmpeg():\n",
    "    try:\n",
    "        # 執行 ffmpeg -version 命令並捕獲輸出\n",
    "        result = subprocess.run([\"ffmpeg\", \"-version\"], capture_output=True, text=True, check=True)\n",
    "        # 輸出 ffmpeg 的版本信息\n",
    "        print(\"FFmpeg is installed. Here's the version information:\")\n",
    "        print(result.stdout)\n",
    "    except subprocess.CalledProcessError as e:\n",
    "        # 如果 ffmpeg 命令失敗，可能未安裝或配置不正確\n",
    "        print(\"Failed to execute ffmpeg. Please check installation.\")\n",
    "        print(e)\n",
    "    except FileNotFoundError:\n",
    "        # 如果未找到 ffmpeg 命令，則 ffmpeg 未安裝\n",
    "        print(\"FFmpeg is not installed or not found in PATH.\")\n",
    "\n",
    "check_ffmpeg()"
   ]
  },
  {
   "cell_type": "markdown",
   "metadata": {},
   "source": [
    "## Select Env"
   ]
  },
  {
   "cell_type": "code",
   "execution_count": null,
   "metadata": {},
   "outputs": [],
   "source": [
    "!pip install -U openai-whisper\n",
    "!apt-get install ffmpeg"
   ]
  },
  {
   "cell_type": "code",
   "execution_count": 1,
   "metadata": {},
   "outputs": [
    {
     "data": {
      "application/vnd.jupyter.widget-view+json": {
       "model_id": "1498a19e1c15481c9c4392327fa5afa7",
       "version_major": 2,
       "version_minor": 0
      },
      "text/plain": [
       "Dropdown(description='Mode:', options=('colab', 'pc'), value='colab')"
      ]
     },
     "metadata": {},
     "output_type": "display_data"
    }
   ],
   "source": [
    "import ipywidgets as widgets\n",
    "import os\n",
    "\n",
    "mode_list = ['colab', 'pc']\n",
    "mode_drop = widgets.Dropdown(options=mode_list, description='Mode:')\n",
    "display(mode_drop)"
   ]
  },
  {
   "cell_type": "code",
   "execution_count": 2,
   "metadata": {},
   "outputs": [],
   "source": [
    "mode = mode_drop.value\n",
    "if mode == 'colab':\n",
    "    from google.colab import drive\n",
    "    drive.mount('/content/drive')\n",
    "    dir_list = [\"/content/drive/MyDrive/新增資料夾\", os.getcwd(), 'other']\n",
    "elif mode == 'pc':\n",
    "    dir_list = [os.getcwd(), 'other']"
   ]
  },
  {
   "cell_type": "code",
   "execution_count": 3,
   "metadata": {},
   "outputs": [
    {
     "data": {
      "application/vnd.jupyter.widget-view+json": {
       "model_id": "98deda91c6a74964afe789b998b28ee0",
       "version_major": 2,
       "version_minor": 0
      },
      "text/plain": [
       "Box(children=(Dropdown(description='Model size:', options=('small', 'medium', 'large'), value='small'), Dropdo…"
      ]
     },
     "metadata": {},
     "output_type": "display_data"
    }
   ],
   "source": [
    "from ipywidgets import Layout, Box\n",
    "\n",
    "# 设置布局\n",
    "layout = Layout(display='flex', flex_flow='column wrap')\n",
    "\n",
    "# 创建下拉列表\n",
    "model_size_drop = widgets.Dropdown(options=['small', 'medium', 'large'], description='Model size:')\n",
    "dir_drop = widgets.Dropdown(options=dir_list, description='Dir:')\n",
    "language_drop = widgets.Dropdown(options=['en', 'zh'], description='language:')\n",
    "\n",
    "# 将下拉列表放入 Box 中，使用设置的布局\n",
    "box = Box(children=[model_size_drop, dir_drop, language_drop], layout=layout)\n",
    "\n",
    "# 显示 Box\n",
    "display(box)\n"
   ]
  },
  {
   "cell_type": "code",
   "execution_count": 10,
   "metadata": {},
   "outputs": [
    {
     "name": "stdout",
     "output_type": "stream",
     "text": [
      "Selected Directory: C:\\Users\\112033645\\Videos\n",
      "Selected Language: en\n",
      "Selected Model Size: medium\n"
     ]
    }
   ],
   "source": [
    "select_dir = dir_drop.value if dir_drop.value != 'other' else input('Enter other dir: ')\n",
    "select_language = language_drop.value \n",
    "select_model_size = model_size_drop.value\n",
    "\n",
    "print(\"Selected Directory:\", select_dir)\n",
    "print(\"Selected Language:\", select_language)\n",
    "print(\"Selected Model Size:\", select_model_size)"
   ]
  },
  {
   "cell_type": "code",
   "execution_count": null,
   "metadata": {},
   "outputs": [],
   "source": [
    "import whisper\n",
    "model = whisper.load_model(select_model_size)"
   ]
  },
  {
   "cell_type": "code",
   "execution_count": 11,
   "metadata": {},
   "outputs": [
    {
     "data": {
      "application/vnd.jupyter.widget-view+json": {
       "model_id": "47438bbbaa5a425193f2cd59a675e04e",
       "version_major": 2,
       "version_minor": 0
      },
      "text/plain": [
       "Dropdown(description='Name:', options=('2024-04-16 13-27-19.mkv', '4-12.mp3', 'desktop.ini', 'port test.ipynb'…"
      ]
     },
     "metadata": {},
     "output_type": "display_data"
    }
   ],
   "source": [
    "files = [f for f in os.listdir(select_dir) if os.path.isfile(os.path.join(select_dir, f))]\n",
    "\n",
    "file_drop = widgets.Dropdown(options=files, description='Name:')\n",
    "\n",
    "# 显示下拉列表\n",
    "display(file_drop)"
   ]
  },
  {
   "cell_type": "markdown",
   "metadata": {},
   "source": [
    "## Convert audio type"
   ]
  },
  {
   "cell_type": "code",
   "execution_count": 12,
   "metadata": {},
   "outputs": [
    {
     "data": {
      "application/vnd.jupyter.widget-view+json": {
       "model_id": "46305c8f086a49afabd7d956b58b634b",
       "version_major": 2,
       "version_minor": 0
      },
      "text/plain": [
       "Dropdown(description='Convert to:', options=('mp3', 'm4a', 'wav', 'ogg', 'flac'), value='mp3')"
      ]
     },
     "metadata": {},
     "output_type": "display_data"
    }
   ],
   "source": [
    "import ipywidgets as widgets\n",
    "\n",
    "audio_type_list = ['mp3', 'm4a', 'wav', 'ogg', 'flac']  # 常見的音訊格式\n",
    "conver_type_drop = widgets.Dropdown(options=audio_type_list, description='Convert to:')\n",
    "\n",
    "# 顯示下拉列表\n",
    "display(conver_type_drop)"
   ]
  },
  {
   "cell_type": "code",
   "execution_count": 24,
   "metadata": {},
   "outputs": [
    {
     "name": "stdout",
     "output_type": "stream",
     "text": [
      "MoviePy - Writing audio in 2024-04-16 13-27-19.mp3\n"
     ]
    },
    {
     "name": "stderr",
     "output_type": "stream",
     "text": [
      "                                                                          "
     ]
    },
    {
     "name": "stdout",
     "output_type": "stream",
     "text": [
      "MoviePy - Done.\n"
     ]
    },
    {
     "name": "stderr",
     "output_type": "stream",
     "text": [
      "\r"
     ]
    }
   ],
   "source": [
    "from moviepy.editor import AudioFileClip\n",
    "from moviepy.editor import VideoFileClip\n",
    "\n",
    "input_audio_path = os.path.join(select_dir, file_drop.value)\n",
    "output_audio_path = '.'.join(file_drop.value.split('.')[:-1])\n",
    "\n",
    "video_list = ['mp4', 'mkv', 'avi', 'mov', 'wmv']\n",
    "\n",
    "if input_audio_path.split('.')[-1] in video_list:\n",
    "    clip = VideoFileClip(input_audio_path)\n",
    "    output_audio_path += '.' + conver_type_drop.value\n",
    "    clip.audio.write_audiofile(output_audio_path)\n",
    "else:\n",
    "    clip = AudioFileClip(input_audio_path)\n",
    "    codec = conver_type_drop.value\n",
    "    output_audio_path += '.' + codec\n",
    "    clip.write_audiofile(output_audio_path, codec=codec)"
   ]
  },
  {
   "cell_type": "code",
   "execution_count": 21,
   "metadata": {},
   "outputs": [
    {
     "data": {
      "text/plain": [
       "'mkv'"
      ]
     },
     "execution_count": 21,
     "metadata": {},
     "output_type": "execute_result"
    }
   ],
   "source": [
    "input_audio_path.split('.')[-1]"
   ]
  },
  {
   "cell_type": "markdown",
   "metadata": {},
   "source": [
    "## one-time transcription"
   ]
  },
  {
   "cell_type": "code",
   "execution_count": null,
   "metadata": {},
   "outputs": [],
   "source": [
    "files = [f for f in os.listdir(select_dir) if os.path.isfile(os.path.join(select_dir, f))]\n",
    "\n",
    "file_drop = widgets.Dropdown(options=files, description='Name:')\n",
    "\n",
    "display(file_drop)"
   ]
  },
  {
   "cell_type": "code",
   "execution_count": null,
   "metadata": {},
   "outputs": [],
   "source": [
    "name = file_drop.value\n",
    "\n",
    "audio_file = os.path.join(select_dir, name)\n",
    "\n",
    "# Transcribe the MP3 file\n",
    "result = model.transcribe(audio_file, language=select_language)\n",
    "\n",
    "# Save the transcription to a text file\n",
    "with open(f\"{name}.txt\", \"w\") as file:\n",
    "    file.write(result[\"text\"])\n",
    "\n",
    "print(\"Transcription saved to transcription.txt\")\n"
   ]
  },
  {
   "cell_type": "code",
   "execution_count": null,
   "metadata": {},
   "outputs": [],
   "source": [
    "from google.colab import files\n",
    "files.download(f\"{name}.txt\")"
   ]
  },
  {
   "cell_type": "markdown",
   "metadata": {},
   "source": [
    "## time-stemp transcription"
   ]
  },
  {
   "cell_type": "markdown",
   "metadata": {},
   "source": [
    "### Slice Audio"
   ]
  },
  {
   "cell_type": "code",
   "execution_count": 52,
   "metadata": {},
   "outputs": [],
   "source": [
    "from pydub import AudioSegment\n",
    "import os\n",
    "from concurrent.futures import ThreadPoolExecutor, as_completed\n",
    "from tqdm import tqdm\n",
    "import math\n",
    "\n",
    "# 功能函數定義\n",
    "def segment_audio(audio, start_time, end_time, temp_dir, temp_name, format):\n",
    "    # 截取特定時間段\n",
    "    segment = audio[start_time * 1000:end_time * 1000]  # 毫秒單位\n",
    "    segment_file = os.path.join(temp_dir, f\"{temp_name}.{format}\")\n",
    "    segment.export(segment_file, format=format)\n",
    "    return segment_file\n",
    "\n",
    "def try_or_make_dir(path):\n",
    "    os.makedirs(path, exist_ok=True)\n",
    "\n",
    "# 主要處理流程\n",
    "def process_audio_segments(audio, audio_file, total_length, time_stemp, dir, select_format):\n",
    "    try_or_make_dir(\"temp\")  # 確保臨時目錄存在\n",
    "    tasks = []\n",
    "\n",
    "    with ThreadPoolExecutor(max_workers=os.cpu_count()) as executor:  # 利用所有可用核心\n",
    "        start_time = 0\n",
    "        for i in range(math.ceil(total_length / time_stemp)):\n",
    "            end_time = min(start_time + time_stemp, total_length)\n",
    "            seg_name = f\"temp{i}\"\n",
    "            tasks.append(executor.submit(segment_audio, audio, start_time, end_time, \"temp\", seg_name, select_format))\n",
    "            start_time = end_time\n",
    "\n",
    "        # # 使用進度條監視完成情況\n",
    "        # for future in tqdm(as_completed(tasks), total=len(tasks), desc=\"Processing segments\"):\n",
    "        #     pass  # 這裡可以擴展處理每個未來任務的結果"
   ]
  },
  {
   "cell_type": "code",
   "execution_count": null,
   "metadata": {},
   "outputs": [],
   "source": [
    "files = [f for f in os.listdir(select_dir) if os.path.isfile(os.path.join(select_dir, f))]\n",
    "\n",
    "file_drop = widgets.Dropdown(options=files, description='Name:')\n",
    "\n",
    "# 显示下拉列表\n",
    "display(file_drop)"
   ]
  },
  {
   "cell_type": "code",
   "execution_count": null,
   "metadata": {},
   "outputs": [],
   "source": [
    "# 使用者輸入和檔案讀取\n",
    "name = file_drop.value\n",
    "select_format = name.split('.')[-1]\n",
    "audio_file = os.path.join(dir, name)\n",
    "audio = AudioSegment.from_file(audio_file)  # 一次性讀取音頻\n",
    "total_length = audio.duration_seconds\n",
    "time_stemp = 300  # 5分鐘\n",
    "\n",
    "# 執行處理\n",
    "process_audio_segments(audio, audio_file, total_length, time_stemp, dir, select_format)"
   ]
  },
  {
   "cell_type": "markdown",
   "metadata": {},
   "source": [
    "### transcription"
   ]
  },
  {
   "cell_type": "code",
   "execution_count": 63,
   "metadata": {},
   "outputs": [
    {
     "data": {
      "application/vnd.jupyter.widget-view+json": {
       "model_id": "18211958969849518eea1f18ccd7d353",
       "version_major": 2,
       "version_minor": 0
      },
      "text/plain": [
       "Dropdown(description='Dir:', options=('.git', 'temp'), value='.git')"
      ]
     },
     "metadata": {},
     "output_type": "display_data"
    }
   ],
   "source": [
    "dir_list = [d for d in os.listdir(select_dir) if os.path.isdir(os.path.join(select_dir, d))]\n",
    "\n",
    "dir_drop = widgets.Dropdown(options=dir_list, description='Dir:')\n",
    "\n",
    "# 显示下拉列表\n",
    "display(dir_drop)"
   ]
  },
  {
   "cell_type": "code",
   "execution_count": 64,
   "metadata": {},
   "outputs": [],
   "source": [
    "trans_dir = os.path.join(select_dir, dir_drop.value)"
   ]
  },
  {
   "cell_type": "code",
   "execution_count": 65,
   "metadata": {},
   "outputs": [
    {
     "data": {
      "text/plain": [
       "'c:\\\\Users\\\\112033645\\\\Videos\\\\whisper\\\\temp'"
      ]
     },
     "execution_count": 65,
     "metadata": {},
     "output_type": "execute_result"
    }
   ],
   "source": [
    "trans_dir"
   ]
  },
  {
   "cell_type": "code",
   "execution_count": null,
   "metadata": {},
   "outputs": [],
   "source": [
    "output_path = f'{name}.txt'\n",
    "\n",
    "total_length = audio.duration_seconds\n",
    "\n",
    "time_stemp = 300 # 5分鐘\n",
    "start_time = 0\n",
    "\n",
    "for i, audio_file in tqdm(enumerate(os.listdir(trans_dir)), desc=\"Processing segments\"):\n",
    "    end_time = min(start_time + time_stemp, total_length)\n",
    "\n",
    "    # Transcribe the MP3 file\n",
    "    result = model.transcribe(audio_file, language=select_language)\n",
    "\n",
    "    # Save the transcription to a text file\n",
    "    with open(output_path, \"a\") as file:\n",
    "        file.write(f\"{start_time/60}(min):\\n\")\n",
    "        file.write(result[\"text\"])\n",
    "        file.write(\"\\n\")\n",
    "\n",
    "    print(f\"Segment {i} transcription saved to {output_path}\")\n",
    "\n",
    "    start_time = end_time"
   ]
  }
 ],
 "metadata": {
  "kernelspec": {
   "display_name": "JupyterLab",
   "language": "python",
   "name": "jupyterlab"
  },
  "language_info": {
   "codemirror_mode": {
    "name": "ipython",
    "version": 3
   },
   "file_extension": ".py",
   "mimetype": "text/x-python",
   "name": "python",
   "nbconvert_exporter": "python",
   "pygments_lexer": "ipython3",
   "version": "3.11.4"
  }
 },
 "nbformat": 4,
 "nbformat_minor": 2
}
