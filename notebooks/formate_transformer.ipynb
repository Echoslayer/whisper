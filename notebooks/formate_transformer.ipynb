{
 "cells": [
  {
   "cell_type": "markdown",
   "metadata": {},
   "source": [
    "# Format Transformer\n",
    "\n",
    "This notebook allows you to transform transcript files into different formats, such as SRT for subtitles."
   ]
  },
  {
   "cell_type": "markdown",
   "metadata": {},
   "source": [
    "## Step 1: Configure Transcript and Output Settings\n",
    "\n",
    "Use the widgets below to specify the input transcript file and the desired output SRT filename."
   ]
  },
  {
   "cell_type": "code",
   "execution_count": null,
   "metadata": {},
   "outputs": [],
   "source": [
    "import os\n",
    "import ipywidgets as widgets\n",
    "from IPython.display import display\n",
    "\n",
    "# Default configuration values\n",
    "DEFAULT_TRANSCRIPT_DIR = \"../data/transcripts\"\n",
    "DEFAULT_TRANSCRIPT_FILENAME = \"transcription.txt\"\n",
    "DEFAULT_SRT_FILENAME = \"subtitles.srt\"\n",
    "\n",
    "# Widgets for configuration\n",
    "transcript_dir_widget = widgets.Text(\n",
    "    value=DEFAULT_TRANSCRIPT_DIR,\n",
    "    placeholder='Enter transcript directory path',\n",
    "    description='Transcript Dir:',\n",
    "    layout={'width': '500px'}\n",
    ")\n",
    "\n",
    "transcript_filename_widget = widgets.Text(\n",
    "    value=DEFAULT_TRANSCRIPT_FILENAME,\n",
    "    placeholder='Enter transcript filename',\n",
    "    description='Transcript File:',\n",
    "    layout={'width': '500px'}\n",
    ")\n",
    "\n",
    "srt_filename_widget = widgets.Text(\n",
    "    value=DEFAULT_SRT_FILENAME,\n",
    "    placeholder='Enter output SRT filename',\n",
    "    description='SRT Filename:',\n",
    "    layout={'width': '500px'}\n",
    ")\n",
    "\n",
    "# Display widgets\n",
    "display(transcript_dir_widget)\n",
    "display(transcript_filename_widget)\n",
    "display(srt_filename_widget)"
   ]
  },
  {
   "cell_type": "markdown",
   "metadata": {},
   "source": [
    "## Step 2: Convert Transcript to SRT Format\n",
    "\n",
    "Convert the specified transcript file into SRT format for subtitles."
   ]
  },
  {
   "cell_type": "code",
   "execution_count": null,
   "metadata": {},
   "outputs": [],
   "source": [
    "import re\n",
    "import os\n",
    "\n",
    "def time_to_srt_format(time_str):\n",
    "    \"\"\"Convert time format from HH:MM:SS or MM:SS to HH:MM:SS,000 for SRT.\"\"\"\n",
    "    parts = time_str.split(':')\n",
    "    if len(parts) == 2:  # Format is MM:SS\n",
    "        return f\"00:{parts[0]}:{parts[1]},000\"\n",
    "    elif len(parts) == 3:  # Format is HH:MM:SS\n",
    "        return f\"{parts[0]}:{parts[1]}:{parts[2]},000\"\n",
    "    else:\n",
    "        return \"00:00:00,000\"  # Default fallback for invalid format\n",
    "\n",
    "def convert_transcript_to_srt(transcript_path, srt_path):\n",
    "    \"\"\"Convert a transcript file with timestamps to SRT format, handling non-continuous segments.\"\"\"\n",
    "    try:\n",
    "        with open(transcript_path, 'r', encoding='utf-8') as f:\n",
    "            content = f.read()\n",
    "        \n",
    "        # Split content into segments based on timestamp headers, supporting various time formats\n",
    "        segments = re.split(r'\\[(\\d{1,3}:\\d{2}(?::\\d{2})?) - (\\d{1,3}:\\d{2}(?::\\d{2})?)\\]\\n', content)\n",
    "        srt_content = []\n",
    "        index = 1\n",
    "        \n",
    "        for i in range(1, len(segments), 3):\n",
    "            if i + 2 < len(segments):  # Ensure we have all parts (start, end, text)\n",
    "                start_time = time_to_srt_format(segments[i])\n",
    "                end_time = time_to_srt_format(segments[i+1])\n",
    "                text = segments[i+2].strip()\n",
    "                if text:\n",
    "                    # Split long text into multiple lines if necessary (max 70 chars per line)\n",
    "                    lines = []\n",
    "                    current_line = \"\"\n",
    "                    for word in text.split():\n",
    "                        if len(current_line + word) < 70:\n",
    "                            current_line += word + \" \"\n",
    "                        else:\n",
    "                            lines.append(current_line.strip())\n",
    "                            current_line = word + \" \"\n",
    "                    if current_line:\n",
    "                        lines.append(current_line.strip())\n",
    "                    srt_content.append(f\"{index}\\n{start_time} --> {end_time}\\n\" + \"\\n\".join(lines) + \"\\n\")\n",
    "                    index += 1\n",
    "        \n",
    "        with open(srt_path, 'w', encoding='utf-8') as f:\n",
    "            f.write('\\n'.join(srt_content))\n",
    "        print(f\"🎬 SRT file created successfully at: {srt_path}\")\n",
    "    except Exception as e:\n",
    "        print(f\"❌ Error converting transcript to SRT: {e}\")\n",
    "\n",
    "# Define paths for transcript and SRT output using widget values\n",
    "transcript_dir = transcript_dir_widget.value\n",
    "transcript_path = os.path.join(transcript_dir, transcript_filename_widget.value)\n",
    "srt_path = os.path.join(transcript_dir, srt_filename_widget.value)\n",
    "\n",
    "# Convert transcript to SRT\n",
    "if os.path.exists(transcript_path):\n",
    "    convert_transcript_to_srt(transcript_path, srt_path)\n",
    "else:\n",
    "    print(f\"❌ Transcript file does not exist: {transcript_path}\")"
   ]
  }
 ],
 "metadata": {
  "kernelspec": {
   "display_name": ".venv",
   "language": "python",
   "name": "python3"
  },
  "language_info": {
   "codemirror_mode": {
    "name": "ipython",
    "version": 3
   },
   "file_extension": ".py",
   "mimetype": "text/x-python",
   "name": "python",
   "nbconvert_exporter": "python",
   "pygments_lexer": "ipython3",
   "version": "3.12.9"
  }
 },
 "nbformat": 4,
 "nbformat_minor": 2
}
