{
 "cells": [
  {
   "cell_type": "markdown",
   "metadata": {},
   "source": [
    "## Select Env"
   ]
  },
  {
   "cell_type": "code",
   "execution_count": null,
   "metadata": {},
   "outputs": [],
   "source": [
    "from google.colab import drive\n",
    "drive.mount('/content/drive')"
   ]
  },
  {
   "cell_type": "code",
   "execution_count": 20,
   "metadata": {},
   "outputs": [
    {
     "data": {
      "application/vnd.jupyter.widget-view+json": {
       "model_id": "05223f16189a4368ad86bc108be3c2d1",
       "version_major": 2,
       "version_minor": 0
      },
      "text/plain": [
       "Dropdown(description='Mode:', options=('colab', 'pc'), value='colab')"
      ]
     },
     "metadata": {},
     "output_type": "display_data"
    }
   ],
   "source": [
    "# @hidden_cell\n",
    "import ipywidgets as widgets\n",
    "import os\n",
    "\n",
    "mode_list = ['colab', 'pc']\n",
    "mode_drop = widgets.Dropdown(options=mode_list, description='Mode:')\n",
    "display(mode_drop)"
   ]
  },
  {
   "cell_type": "code",
   "execution_count": 32,
   "metadata": {},
   "outputs": [],
   "source": [
    "mode = mode_drop.value\n",
    "if mode == 'colab':\n",
    "    dir_list = [\"/content/drive/MyDrive/新增資料夾\", os.getcwd(), 'other']\n",
    "elif mode == 'pc':\n",
    "    dir_list = [os.getcwd(), 'other']"
   ]
  },
  {
   "cell_type": "code",
   "execution_count": 35,
   "metadata": {},
   "outputs": [
    {
     "data": {
      "application/vnd.jupyter.widget-view+json": {
       "model_id": "da0f6996a0824e89a59d03e4981a03d7",
       "version_major": 2,
       "version_minor": 0
      },
      "text/plain": [
       "Box(children=(Dropdown(description='Model size:', options=('small', 'medium', 'large'), value='small'), Dropdo…"
      ]
     },
     "metadata": {},
     "output_type": "display_data"
    }
   ],
   "source": [
    "from ipywidgets import Layout, Box\n",
    "\n",
    "# 设置布局\n",
    "layout = Layout(display='flex', flex_flow='column wrap')\n",
    "\n",
    "# 创建下拉列表\n",
    "model_size_drop = widgets.Dropdown(options=['small', 'medium', 'large'], description='Model size:')\n",
    "dir_drop = widgets.Dropdown(options=dir_list, description='Dir:')\n",
    "language_drop = widgets.Dropdown(options=['en', 'zh'], description='language:')\n",
    "\n",
    "# 将下拉列表放入 Box 中，使用设置的布局\n",
    "box = Box(children=[model_size_drop, dir_drop, language_drop], layout=layout)\n",
    "\n",
    "# 显示 Box\n",
    "display(box)\n"
   ]
  },
  {
   "cell_type": "code",
   "execution_count": 40,
   "metadata": {},
   "outputs": [
    {
     "name": "stdout",
     "output_type": "stream",
     "text": [
      "Selected Directory: c:\\Users\\112033645\\Videos\\whisper\n",
      "Selected Language: en\n",
      "Selected Model Size: medium\n"
     ]
    }
   ],
   "source": [
    "select_dir = dir_drop.value if dir_drop.value != 'other' else input('Enter other dir: ')\n",
    "select_language = language_drop.value \n",
    "select_model_size = model_size_drop.value\n",
    "\n",
    "print(\"Selected Directory:\", select_dir)\n",
    "print(\"Selected Language:\", select_language)\n",
    "print(\"Selected Model Size:\", select_model_size)"
   ]
  },
  {
   "cell_type": "code",
   "execution_count": null,
   "metadata": {},
   "outputs": [],
   "source": []
  }
 ],
 "metadata": {
  "kernelspec": {
   "display_name": "JupyterLab",
   "language": "python",
   "name": "jupyterlab"
  },
  "language_info": {
   "codemirror_mode": {
    "name": "ipython",
    "version": 3
   },
   "file_extension": ".py",
   "mimetype": "text/x-python",
   "name": "python",
   "nbconvert_exporter": "python",
   "pygments_lexer": "ipython3",
   "version": "3.11.4"
  }
 },
 "nbformat": 4,
 "nbformat_minor": 2
}
